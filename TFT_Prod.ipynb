{
 "cells": [
  {
   "cell_type": "code",
   "execution_count": 1,
   "metadata": {},
   "outputs": [
    {
     "name": "stdout",
     "output_type": "stream",
     "text": [
      "Version:  2.0.0\n",
      "Eager mode:  True\n",
      "Hub version:  0.7.0\n",
      "GPU is NOT AVAILABLE\n"
     ]
    }
   ],
   "source": [
    "from __future__ import absolute_import, division, print_function, unicode_literals\n",
    "\n",
    "import numpy as np\n",
    "import pandas as pd \n",
    "\n",
    "import tensorflow as tf\n",
    "\n",
    "import tensorflow_hub as hub\n",
    "import tensorflow_datasets as tfds\n",
    "\n",
    "print(\"Version: \", tf.__version__)\n",
    "print(\"Eager mode: \", tf.executing_eagerly())\n",
    "print(\"Hub version: \", hub.__version__)\n",
    "print(\"GPU is\", \"available\" if tf.config.experimental.list_physical_devices(\"GPU\") else \"NOT AVAILABLE\")"
   ]
  },
  {
   "cell_type": "code",
   "execution_count": 2,
   "metadata": {},
   "outputs": [],
   "source": [
    "# Split the training set into 60% and 40%, so we'll end up with 15,000 examples\n",
    "# for training, 10,000 examples for validation and 25,000 examples for testing.\n",
    "train_validation_split = tfds.Split.TRAIN.subsplit([6, 4])\n",
    "\n",
    "(train_data, validation_data), test_data = tfds.load(\n",
    "    name=\"imdb_reviews\", \n",
    "    split=(train_validation_split, tfds.Split.TEST),\n",
    "    as_supervised=True)"
   ]
  },
  {
   "cell_type": "code",
   "execution_count": 3,
   "metadata": {},
   "outputs": [],
   "source": [
    "embedding = \"https://tfhub.dev/google/tf2-preview/gnews-swivel-20dim/1\"\n",
    "hub_layer = hub.KerasLayer(embedding, input_shape=[], \n",
    "                           dtype=tf.string, trainable=True)"
   ]
  },
  {
   "cell_type": "code",
   "execution_count": 4,
   "metadata": {},
   "outputs": [
    {
     "name": "stdout",
     "output_type": "stream",
     "text": [
      "Model: \"sequential\"\n",
      "_________________________________________________________________\n",
      "Layer (type)                 Output Shape              Param #   \n",
      "=================================================================\n",
      "keras_layer (KerasLayer)     (None, 20)                400020    \n",
      "_________________________________________________________________\n",
      "dense (Dense)                (None, 16)                336       \n",
      "_________________________________________________________________\n",
      "dense_1 (Dense)              (None, 1)                 17        \n",
      "=================================================================\n",
      "Total params: 400,373\n",
      "Trainable params: 400,373\n",
      "Non-trainable params: 0\n",
      "_________________________________________________________________\n"
     ]
    }
   ],
   "source": [
    "model = tf.keras.Sequential()\n",
    "model.add(hub_layer)\n",
    "model.add(tf.keras.layers.Dense(16, activation='relu'))\n",
    "model.add(tf.keras.layers.Dense(1, activation='sigmoid'))\n",
    "\n",
    "model.summary()"
   ]
  },
  {
   "cell_type": "code",
   "execution_count": 5,
   "metadata": {},
   "outputs": [],
   "source": [
    "model.compile(optimizer='adam',\n",
    "              loss='binary_crossentropy',\n",
    "              metrics=['accuracy'])"
   ]
  },
  {
   "cell_type": "code",
   "execution_count": 6,
   "metadata": {},
   "outputs": [
    {
     "name": "stdout",
     "output_type": "stream",
     "text": [
      "Epoch 1/20\n",
      "30/30 [==============================] - 25s 821ms/step - loss: 0.7937 - accuracy: 0.4997 - val_loss: 0.0000e+00 - val_accuracy: 0.0000e+00\n",
      "Epoch 2/20\n",
      "30/30 [==============================] - 23s 758ms/step - loss: 0.6575 - accuracy: 0.6281 - val_loss: 0.6134 - val_accuracy: 0.6670\n",
      "Epoch 3/20\n",
      "30/30 [==============================] - 27s 900ms/step - loss: 0.5935 - accuracy: 0.6954 - val_loss: 0.5686 - val_accuracy: 0.7128\n",
      "Epoch 4/20\n",
      "30/30 [==============================] - 22s 738ms/step - loss: 0.5500 - accuracy: 0.7349 - val_loss: 0.5358 - val_accuracy: 0.7391\n",
      "Epoch 5/20\n",
      "30/30 [==============================] - 22s 731ms/step - loss: 0.5184 - accuracy: 0.7636 - val_loss: 0.5057 - val_accuracy: 0.7594\n",
      "Epoch 6/20\n",
      "30/30 [==============================] - 22s 738ms/step - loss: 0.4807 - accuracy: 0.7871 - val_loss: 0.4773 - val_accuracy: 0.7791\n",
      "Epoch 7/20\n",
      "30/30 [==============================] - 22s 727ms/step - loss: 0.4497 - accuracy: 0.8073 - val_loss: 0.4515 - val_accuracy: 0.7943\n",
      "Epoch 8/20\n",
      "30/30 [==============================] - 22s 725ms/step - loss: 0.4198 - accuracy: 0.8257 - val_loss: 0.4285 - val_accuracy: 0.8080\n",
      "Epoch 9/20\n",
      "30/30 [==============================] - 22s 741ms/step - loss: 0.3946 - accuracy: 0.8402 - val_loss: 0.4075 - val_accuracy: 0.8190\n",
      "Epoch 10/20\n",
      "30/30 [==============================] - 22s 750ms/step - loss: 0.3653 - accuracy: 0.8550 - val_loss: 0.3893 - val_accuracy: 0.8265\n",
      "Epoch 11/20\n",
      "30/30 [==============================] - 22s 748ms/step - loss: 0.3432 - accuracy: 0.8671 - val_loss: 0.3730 - val_accuracy: 0.8363\n",
      "Epoch 12/20\n",
      "30/30 [==============================] - 22s 730ms/step - loss: 0.3208 - accuracy: 0.8770 - val_loss: 0.3584 - val_accuracy: 0.8430\n",
      "Epoch 13/20\n",
      "30/30 [==============================] - 22s 731ms/step - loss: 0.3014 - accuracy: 0.8880 - val_loss: 0.3490 - val_accuracy: 0.8488\n",
      "Epoch 14/20\n",
      "30/30 [==============================] - 22s 741ms/step - loss: 0.2819 - accuracy: 0.8947 - val_loss: 0.3358 - val_accuracy: 0.8535\n",
      "Epoch 15/20\n",
      "30/30 [==============================] - 22s 740ms/step - loss: 0.2626 - accuracy: 0.9041 - val_loss: 0.3270 - val_accuracy: 0.8570\n",
      "Epoch 16/20\n",
      "30/30 [==============================] - 23s 752ms/step - loss: 0.2494 - accuracy: 0.9096 - val_loss: 0.3201 - val_accuracy: 0.8598\n",
      "Epoch 17/20\n",
      "30/30 [==============================] - 22s 725ms/step - loss: 0.2363 - accuracy: 0.9161 - val_loss: 0.3136 - val_accuracy: 0.8636\n",
      "Epoch 18/20\n",
      "30/30 [==============================] - 22s 742ms/step - loss: 0.2200 - accuracy: 0.9200 - val_loss: 0.3089 - val_accuracy: 0.8668\n",
      "Epoch 19/20\n",
      "30/30 [==============================] - 22s 735ms/step - loss: 0.2076 - accuracy: 0.9261 - val_loss: 0.3039 - val_accuracy: 0.8680\n",
      "Epoch 20/20\n",
      "30/30 [==============================] - 23s 759ms/step - loss: 0.1984 - accuracy: 0.9316 - val_loss: 0.3008 - val_accuracy: 0.8700\n"
     ]
    }
   ],
   "source": [
    "history = model.fit(train_data.shuffle(10000).batch(512),\n",
    "                    epochs=20,\n",
    "                    validation_data=validation_data.batch(512),\n",
    "                    verbose=1)"
   ]
  },
  {
   "cell_type": "code",
   "execution_count": 7,
   "metadata": {},
   "outputs": [
    {
     "name": "stdout",
     "output_type": "stream",
     "text": [
      "49/49 - 11s - loss: 0.3191 - accuracy: 0.8632\n",
      "loss: 0.319\n",
      "accuracy: 0.863\n"
     ]
    }
   ],
   "source": [
    "results = model.evaluate(test_data.batch(512), verbose=2)\n",
    "\n",
    "for name, value in zip(model.metrics_names, results):\n",
    "  print(\"%s: %.3f\" % (name, value))"
   ]
  },
  {
   "cell_type": "code",
   "execution_count": 17,
   "metadata": {},
   "outputs": [
    {
     "data": {
      "text/plain": [
       "[<tf.Variable 'Variable:0' shape=(20001, 20) dtype=float32, numpy=\n",
       " array([[-0.60565156, -0.01413231,  0.79470503, ...,  0.7346931 ,\n",
       "         -0.341707  , -0.43011868],\n",
       "        [-1.2047577 ,  0.21791467,  1.1384295 , ...,  0.74889004,\n",
       "         -0.41222748,  0.11590002],\n",
       "        [-1.1825986 , -0.27781248, -1.8687841 , ..., -1.071256  ,\n",
       "          1.0310836 ,  0.14684631],\n",
       "        ...,\n",
       "        [ 0.13454673, -0.15173355,  0.5368477 , ...,  0.8319293 ,\n",
       "         -0.61366147, -1.0842572 ],\n",
       "        [ 0.20673902, -0.1418509 , -0.5856179 , ..., -0.02331898,\n",
       "          1.6080966 , -0.6525672 ],\n",
       "        [ 0.03065004, -0.0212786 , -0.06213012, ..., -0.08174069,\n",
       "          0.03637259,  0.00763808]], dtype=float32)>,\n",
       " <tf.Variable 'dense/kernel:0' shape=(20, 16) dtype=float32, numpy=\n",
       " array([[-0.17215075, -0.29930273, -0.30928624, -0.4828537 ,  0.28336754,\n",
       "         -0.08719461,  0.23182857,  0.01301501, -0.16657364, -0.1382503 ,\n",
       "          0.45111033,  0.1275746 , -0.12049769,  0.32172298,  0.05298095,\n",
       "         -0.29348877],\n",
       "        [-0.27610797, -0.14367113, -0.21880957,  0.11381989, -0.03801719,\n",
       "         -0.00787774, -0.42867845,  0.00075581, -0.10422665, -0.3495287 ,\n",
       "         -0.47453228,  0.34861395,  0.29194766,  0.14351565, -0.15163378,\n",
       "          0.2563457 ],\n",
       "        [-0.20155808,  0.01175578,  0.3843894 , -0.07235219, -0.15277006,\n",
       "         -0.16864493, -0.13285637, -0.2291869 ,  0.09425749,  0.41687378,\n",
       "         -0.3410853 ,  0.27659214, -0.12868845, -0.41237563, -0.15069805,\n",
       "         -0.20781554],\n",
       "        [-0.22533429,  0.25915825, -0.31471148, -0.41342896, -0.20586553,\n",
       "          0.4119827 , -0.26883274, -0.22642118, -0.07019615, -0.10799019,\n",
       "          0.578892  , -0.26933336, -0.00425977,  0.07945546,  0.06049941,\n",
       "         -0.09093993],\n",
       "        [-0.30040634,  0.41455314, -0.19764653, -0.22814074, -0.26709652,\n",
       "          0.31996313, -0.09334959,  0.05398817, -0.24576169,  0.16392554,\n",
       "         -0.25520226, -0.35964683,  0.1492438 ,  0.22588457,  0.01710632,\n",
       "          0.15803303],\n",
       "        [ 0.4169137 ,  0.08205514,  0.12854993,  0.0822814 ,  0.18774877,\n",
       "          0.00874573,  0.28084743,  0.0830363 , -0.00121092,  0.00789317,\n",
       "         -0.5101653 , -0.24444875,  0.02802535, -0.2952279 , -0.34354144,\n",
       "          0.2725825 ],\n",
       "        [-0.20248866,  0.44445455,  0.12298229,  0.3046172 , -0.41978788,\n",
       "          0.3625912 ,  0.04278672,  0.19715907,  0.06883398,  0.14536011,\n",
       "         -0.59906626, -0.15643701,  0.25274745, -0.08218176,  0.18385191,\n",
       "          0.11638251],\n",
       "        [ 0.04737131, -0.32397878, -0.02811312,  0.24302308, -0.38180345,\n",
       "          0.28345904, -0.24000087,  0.25471735, -0.34628838,  0.27236408,\n",
       "         -0.37594393,  0.30594105, -0.34599677, -0.32644504, -0.24142775,\n",
       "          0.41556993],\n",
       "        [-0.2860911 ,  0.13654418,  0.041508  ,  0.00572594, -0.03766711,\n",
       "         -0.18427645,  0.28986174, -0.3520091 ,  0.03372133,  0.09886441,\n",
       "         -0.20431757, -0.11715322, -0.43059865,  0.00866022, -0.04661077,\n",
       "         -0.14437866],\n",
       "        [ 0.09788988, -0.05456458, -0.17740993, -0.20694238, -0.11191288,\n",
       "          0.3088737 , -0.13069431, -0.33221644, -0.02650719, -0.13234521,\n",
       "          0.33578175, -0.30037707,  0.08504613,  0.05787055,  0.04251409,\n",
       "          0.40206364],\n",
       "        [-0.29200396, -0.12973616, -0.43901518, -0.35928828,  0.17425376,\n",
       "          0.33131385, -0.21806401, -0.06061786,  0.20832624, -0.24317887,\n",
       "          0.19064239,  0.25266474,  0.27052844,  0.0014832 ,  0.03203963,\n",
       "         -0.09448244],\n",
       "        [ 0.37976143, -0.0234954 , -0.10373857,  0.6421439 , -0.11846508,\n",
       "         -0.07426585,  0.10052659,  0.36692455,  0.13597336,  0.37667835,\n",
       "         -0.35352048, -0.3406988 ,  0.3746153 , -0.24253128,  0.03871464,\n",
       "          0.25713414],\n",
       "        [-0.04832743, -0.16140397, -0.4124877 , -0.52297527, -0.05005635,\n",
       "          0.26086393,  0.42688775, -0.1378779 ,  0.31987613, -0.37307265,\n",
       "         -0.10646398, -0.37480727,  0.03396445, -0.2041758 , -0.23021273,\n",
       "          0.15730563],\n",
       "        [ 0.52187467, -0.14092971, -0.20294325, -0.00843282,  0.0668427 ,\n",
       "         -0.0850537 , -0.10503991,  0.1984753 , -0.2866482 ,  0.2866404 ,\n",
       "         -0.46450678, -0.12723053,  0.1612769 , -0.16538467, -0.29564548,\n",
       "          0.32450572],\n",
       "        [ 0.0895686 ,  0.287168  , -0.3227418 , -0.2564115 , -0.13380812,\n",
       "          0.06897517, -0.08061685,  0.2891347 , -0.03949333,  0.28542218,\n",
       "          0.19050066, -0.03735838, -0.11755046,  0.02192281,  0.02739165,\n",
       "         -0.38226914],\n",
       "        [-0.17432177,  0.07023392,  0.08450443, -0.4676698 ,  0.4507948 ,\n",
       "         -0.21430315, -0.04680823,  0.33595318, -0.01958019,  0.118379  ,\n",
       "          0.33516172, -0.3412689 ,  0.4142624 ,  0.27978492,  0.18586822,\n",
       "         -0.3502692 ],\n",
       "        [-0.2806046 ,  0.22198768,  0.08672626,  0.17272317, -0.26026553,\n",
       "          0.3526451 , -0.06191576, -0.36556342, -0.41674381,  0.4396931 ,\n",
       "         -0.21059097, -0.37104398, -0.11120352, -0.16023855,  0.17804763,\n",
       "         -0.3065492 ],\n",
       "        [-0.08850716, -0.19537686,  0.17542979, -0.19314568, -0.14961495,\n",
       "         -0.1719925 ,  0.27153522,  0.03042805,  0.18896511,  0.22568671,\n",
       "         -0.31454673,  0.04415194,  0.04869226,  0.06481513, -0.18360744,\n",
       "          0.1718106 ],\n",
       "        [-0.21802661, -0.337181  ,  0.18918592,  0.16008125, -0.41209805,\n",
       "         -0.26679042, -0.44972068, -0.13803302, -0.15410659,  0.11712445,\n",
       "         -0.01025147,  0.27066523,  0.3993928 ,  0.29166746, -0.07082132,\n",
       "          0.07092736],\n",
       "        [-0.0745011 , -0.27793056, -0.32785347, -0.18426266, -0.21850505,\n",
       "         -0.20432316,  0.39788938,  0.19412053,  0.02826402, -0.399546  ,\n",
       "          0.00457713, -0.1364864 ,  0.38004673, -0.07750551, -0.17901985,\n",
       "         -0.42446458]], dtype=float32)>,\n",
       " <tf.Variable 'dense/bias:0' shape=(16,) dtype=float32, numpy=\n",
       " array([-0.00426248, -0.02635091, -0.01288334,  0.02875237,  0.01065292,\n",
       "        -0.02869173,  0.01834686, -0.03489471, -0.03365538, -0.01110036,\n",
       "         0.20236777, -0.02522124,  0.07710455, -0.06558626,  0.01161183,\n",
       "        -0.02352415], dtype=float32)>,\n",
       " <tf.Variable 'dense_1/kernel:0' shape=(16, 1) dtype=float32, numpy=\n",
       " array([[ 0.526701  ],\n",
       "        [ 0.60772175],\n",
       "        [ 0.21523029],\n",
       "        [ 0.92761177],\n",
       "        [-0.3317248 ],\n",
       "        [-0.33628514],\n",
       "        [-0.39065123],\n",
       "        [-0.41467738],\n",
       "        [-0.38888568],\n",
       "        [ 0.4639193 ],\n",
       "        [-0.773281  ],\n",
       "        [ 0.03271118],\n",
       "        [ 0.68876266],\n",
       "        [-0.18207361],\n",
       "        [-0.3523696 ],\n",
       "        [-0.13300824]], dtype=float32)>,\n",
       " <tf.Variable 'dense_1/bias:0' shape=(1,) dtype=float32, numpy=array([-0.00867877], dtype=float32)>]"
      ]
     },
     "execution_count": 17,
     "metadata": {},
     "output_type": "execute_result"
    }
   ],
   "source": [
    "history.model.weights"
   ]
  },
  {
   "cell_type": "code",
   "execution_count": 9,
   "metadata": {},
   "outputs": [
    {
     "name": "stdout",
     "output_type": "stream",
     "text": [
      "49/49 - 13s\n"
     ]
    }
   ],
   "source": [
    "predictions = model.predict (test_data.batch(512), verbose=2)"
   ]
  },
  {
   "cell_type": "code",
   "execution_count": 10,
   "metadata": {},
   "outputs": [
    {
     "data": {
      "text/plain": [
       "(25000, 1)"
      ]
     },
     "execution_count": 10,
     "metadata": {},
     "output_type": "execute_result"
    }
   ],
   "source": [
    "predictions.shape"
   ]
  },
  {
   "cell_type": "code",
   "execution_count": 12,
   "metadata": {},
   "outputs": [
    {
     "data": {
      "text/plain": [
       "array([[0.9310888 ],\n",
       "       [0.439357  ],\n",
       "       [0.99846447],\n",
       "       [0.99758685],\n",
       "       [0.46627742],\n",
       "       [0.9876996 ],\n",
       "       [0.5802702 ],\n",
       "       [0.9912725 ],\n",
       "       [0.98471165],\n",
       "       [0.27497506]], dtype=float32)"
      ]
     },
     "execution_count": 12,
     "metadata": {},
     "output_type": "execute_result"
    }
   ],
   "source": [
    "predictions[:10]"
   ]
  },
  {
   "cell_type": "code",
   "execution_count": 13,
   "metadata": {},
   "outputs": [],
   "source": [
    "def getOutputDF (size):\n",
    "    test_examples_batch, test_labels_batch = next(iter(test_data.batch(size)))\n",
    "    LabelDf = pd.DataFrame (test_labels_batch,columns =  ['Sentiment'])\n",
    "    TextDf = pd.DataFrame (test_examples_batch,columns =  ['Text'])\n",
    "    DataDf = TextDf.join (LabelDf)\n",
    "    DataDf ['Predicted'] = predictions[:size]\n",
    "    return DataDf"
   ]
  },
  {
   "cell_type": "code",
   "execution_count": 14,
   "metadata": {},
   "outputs": [
    {
     "data": {
      "text/html": [
       "<div>\n",
       "<style scoped>\n",
       "    .dataframe tbody tr th:only-of-type {\n",
       "        vertical-align: middle;\n",
       "    }\n",
       "\n",
       "    .dataframe tbody tr th {\n",
       "        vertical-align: top;\n",
       "    }\n",
       "\n",
       "    .dataframe thead th {\n",
       "        text-align: right;\n",
       "    }\n",
       "</style>\n",
       "<table border=\"1\" class=\"dataframe\">\n",
       "  <thead>\n",
       "    <tr style=\"text-align: right;\">\n",
       "      <th></th>\n",
       "      <th>Text</th>\n",
       "      <th>Sentiment</th>\n",
       "      <th>Predicted</th>\n",
       "    </tr>\n",
       "  </thead>\n",
       "  <tbody>\n",
       "    <tr>\n",
       "      <th>0</th>\n",
       "      <td>tf.Tensor(I've watched the movie actually seve...</td>\n",
       "      <td>1</td>\n",
       "      <td>0.931089</td>\n",
       "    </tr>\n",
       "    <tr>\n",
       "      <th>1</th>\n",
       "      <td>tf.Tensor(If you love Japanese monster movies,...</td>\n",
       "      <td>1</td>\n",
       "      <td>0.439357</td>\n",
       "    </tr>\n",
       "    <tr>\n",
       "      <th>2</th>\n",
       "      <td>tf.Tensor(A film for mature, educated audience...</td>\n",
       "      <td>1</td>\n",
       "      <td>0.998464</td>\n",
       "    </tr>\n",
       "    <tr>\n",
       "      <th>3</th>\n",
       "      <td>tf.Tensor(I never saw any of The League's work...</td>\n",
       "      <td>1</td>\n",
       "      <td>0.997587</td>\n",
       "    </tr>\n",
       "    <tr>\n",
       "      <th>4</th>\n",
       "      <td>tf.Tensor(To start off, this happens to be my ...</td>\n",
       "      <td>1</td>\n",
       "      <td>0.466277</td>\n",
       "    </tr>\n",
       "    <tr>\n",
       "      <th>5</th>\n",
       "      <td>tf.Tensor(`Shadow Magic' recaptures the joy an...</td>\n",
       "      <td>1</td>\n",
       "      <td>0.987700</td>\n",
       "    </tr>\n",
       "    <tr>\n",
       "      <th>6</th>\n",
       "      <td>tf.Tensor(I wish I could have voted this movie...</td>\n",
       "      <td>0</td>\n",
       "      <td>0.580270</td>\n",
       "    </tr>\n",
       "    <tr>\n",
       "      <th>7</th>\n",
       "      <td>tf.Tensor(Set in 1962 Hong Kong (in turbulent ...</td>\n",
       "      <td>1</td>\n",
       "      <td>0.991273</td>\n",
       "    </tr>\n",
       "    <tr>\n",
       "      <th>8</th>\n",
       "      <td>tf.Tensor(Good footage of World War I-era ship...</td>\n",
       "      <td>1</td>\n",
       "      <td>0.984712</td>\n",
       "    </tr>\n",
       "    <tr>\n",
       "      <th>9</th>\n",
       "      <td>tf.Tensor(I am from Romania ... and for that i...</td>\n",
       "      <td>0</td>\n",
       "      <td>0.274975</td>\n",
       "    </tr>\n",
       "  </tbody>\n",
       "</table>\n",
       "</div>"
      ],
      "text/plain": [
       "                                                Text  Sentiment  Predicted\n",
       "0  tf.Tensor(I've watched the movie actually seve...          1   0.931089\n",
       "1  tf.Tensor(If you love Japanese monster movies,...          1   0.439357\n",
       "2  tf.Tensor(A film for mature, educated audience...          1   0.998464\n",
       "3  tf.Tensor(I never saw any of The League's work...          1   0.997587\n",
       "4  tf.Tensor(To start off, this happens to be my ...          1   0.466277\n",
       "5  tf.Tensor(`Shadow Magic' recaptures the joy an...          1   0.987700\n",
       "6  tf.Tensor(I wish I could have voted this movie...          0   0.580270\n",
       "7  tf.Tensor(Set in 1962 Hong Kong (in turbulent ...          1   0.991273\n",
       "8  tf.Tensor(Good footage of World War I-era ship...          1   0.984712\n",
       "9  tf.Tensor(I am from Romania ... and for that i...          0   0.274975"
      ]
     },
     "execution_count": 14,
     "metadata": {},
     "output_type": "execute_result"
    }
   ],
   "source": [
    "getOutputDF (10)"
   ]
  },
  {
   "cell_type": "code",
   "execution_count": 18,
   "metadata": {},
   "outputs": [],
   "source": [
    "OutputDF = getOutputDF (25000)"
   ]
  },
  {
   "cell_type": "code",
   "execution_count": 19,
   "metadata": {},
   "outputs": [],
   "source": [
    "OutputDF.to_csv ('Predicted_Sentiment.csv',index=False)"
   ]
  },
  {
   "cell_type": "code",
   "execution_count": 21,
   "metadata": {},
   "outputs": [],
   "source": [
    "#!mkdir -p saved_model\n",
    "history.model.save('my_model.h5')"
   ]
  },
  {
   "cell_type": "code",
   "execution_count": null,
   "metadata": {},
   "outputs": [],
   "source": []
  }
 ],
 "metadata": {
  "kernelspec": {
   "display_name": "Python 2",
   "language": "python",
   "name": "python2"
  },
  "language_info": {
   "codemirror_mode": {
    "name": "ipython",
    "version": 2
   },
   "file_extension": ".py",
   "mimetype": "text/x-python",
   "name": "python",
   "nbconvert_exporter": "python",
   "pygments_lexer": "ipython2",
   "version": "2.7.17"
  }
 },
 "nbformat": 4,
 "nbformat_minor": 2
}
